{
 "cells": [
  {
   "cell_type": "code",
   "execution_count": 2,
   "id": "b2b35def",
   "metadata": {},
   "outputs": [],
   "source": [
    "#import essential libraries\n",
    "import numpy as np\n",
    "import pandas as pd\n",
    "import seaborn as sb\n",
    "import matplotlib.pyplot as plt\n",
    "from sklearn.linear_model import LinearRegression\n",
    "from sklearn.metrics import mean_squared_error\n",
    "from sklearn.model_selection import train_test_split\n",
    "from sklearn.tree import DecisionTreeClassifier\n",
    "from sklearn.tree import plot_tree\n",
    "from sklearn.metrics import confusion_matrix\n",
    "sb.set()"
   ]
  },
  {
   "cell_type": "code",
   "execution_count": 3,
   "id": "bf18a331",
   "metadata": {},
   "outputs": [],
   "source": [
    "#read the file with organized data\n",
    "diabetes_use = pd.read_csv('dataset/diabetes_use.csv')"
   ]
  },
  {
   "cell_type": "markdown",
   "id": "76f8248a",
   "metadata": {},
   "source": [
    "## Explore to the distribution of our response data\n",
    "\n",
    "First of all, we are showing the distribution of the data in **Diabetes_binary** using `catplot`."
   ]
  },
  {
   "cell_type": "code",
   "execution_count": 4,
   "id": "1ba9c947",
   "metadata": {},
   "outputs": [
    {
     "name": "stderr",
     "output_type": "stream",
     "text": [
      "C:\\Users\\WeiZh\\anaconda3\\Lib\\site-packages\\seaborn\\axisgrid.py:118: UserWarning: The figure layout has changed to tight\n",
      "  self._figure.tight_layout(*args, **kwargs)\n"
     ]
    },
    {
     "data": {
      "text/plain": [
       "<seaborn.axisgrid.FacetGrid at 0x21efdd92b90>"
      ]
     },
     "execution_count": 4,
     "metadata": {},
     "output_type": "execute_result"
    },
    {
     "data": {
      "image/png": "[encoded data removed]",
      "text/plain": [
       "<Figure size 500x500 with 1 Axes>"
      ]
     },
     "metadata": {},
     "output_type": "display_data"
    }
   ],
   "source": [
    "# Plot of diabetes_binary vs count\n",
    "sb.catplot(y='Diabetes_binary', data = diabetes_use, kind = \"count\")"
   ]
  },
  {
   "cell_type": "markdown",
   "id": "256130c1",
   "metadata": {},
   "source": [
    "## Correlation between categorical data and Diabetes_binary\n",
    "To show the correlation between **Diabetes_binary** and **each categorical data**, we use `catplot` to visualize it. From the graph, we can simply notice the difference between **the difference ratio of patients with diabetes** and the respective **categorical data**. Furthermore, it can also compare the specific group of people *(i.e. the people with no diabetes)* with the respective **categorical data**. Thus, it helps us to determine the variables that we need to use for our model training.   \n"
   ]
  },
  {
   "cell_type": "code",
   "execution_count": 19,
   "id": "e9e97ef8",
   "metadata": {},
   "outputs": [],
   "source": [
    "#list out the numerical variable which we do not need to plot the relationship in this set of graphs\n",
    "list = ['Diabetes_binary', 'BMI', 'GenHlth', 'MentHlth', 'PhysHlth', 'Age', 'Education', 'Income']\n",
    "\n",
    "#plotting the graph\n",
    "for var in diabetes_use:\n",
    "    if var not in list:\n",
    "        f = plt.figure(figsize=(4,4))\n",
    "        sb.catplot(y='Diabetes_binary', data = diabetes_use, col = var, kind = 'count', col_wrap = 2, height = 8)"
   ]
  },
  {
   "cell_type": "markdown",
   "id": "2ff0f278",
   "metadata": {},
   "source": [
    "After learning every graph we plotted, we sorted out some of the variables that were suitable for our model training. The variables shown below are the variables we chose.<br>\n",
    "\n",
    "### **High Blood Pressure**(HighBP)\n",
    "For the variable `HighBP`, through our observation, the ratio of patients with diabetes and patients with no diabetes for the `HighBP = 0` category is significantly higher than the `Highbp = 1` category. Therefore, it is a good variable to use in diabetes prediction.\n",
    ">**0** = No High Blood Pressure <br>\n",
    ">**1** = High Blood Pressure\n",
    "\n",
    "### **High Cholesterol**(HighChol)\n",
    "Similar to the above, for the variable `HighChol`, the ratio of patients with diabetes and patients with no diabetes for the `HighChol = 0` category is significantly higher than the `HighChol = 1` category. Therefore, it is also suitable for predicting diabetes.\n",
    ">**0** = No High Cholesterol <br>\n",
    ">**1** = High Cholesterol\n",
    "\n",
    "### **Sex**(Sex)\n",
    "For the variable `Sex`, through our observation of the bar chart, we choose it as one of the parameters because it has a significant difference between the number of the ***men with no diabetes*** and the number of the ***women with no diabetes***. The number of ***men and women with diabetes*** are almost the same.\n",
    ">**0** : Woman <br>\n",
    ">**1** : Man\n",
    "\n",
    "### Physical Activity(PhysActivity)\n",
    "For the variable `PhysActivity`, through our observation of the barchart, there is a significant difference between the ratio of ***diabetes_binary (1 && 0)*** between  `PhysActivity = 0` and `PhysActivity = 1`.  Thus it is a good variable.\n",
    "> **0** : Does not have physical activity past 30 days <br>\n",
    "> **1** : Does have physical activity past 30 days\n",
    "\n",
    "### Difficulty of Walk(DiffWalk)\n",
    "For the variable `DiffWalk`, through our observation of the bar chart, there is a significant difference between the ratio of ***diabetes_binary (1 && 0)*** between `DiffWalk = 0` and `DiffWalk = 1`. Thus it is a good variable.\n",
    "> **0** : Does not have serious difficulty walking or climbing stairs <br>\n",
    ">  **1**: Does have serious difficulty walking or climbing stairs"
   ]
  },
  {
   "cell_type": "markdown",
   "id": "cddbce3e",
   "metadata": {},
   "source": [
    "## Correlation between numerical data and Diabetes_binary\n",
    "To show the correlation between **Diabetes_binary** and **each numerical data**, we use `boxplot` to visualize it. We plot two boxplot with one is **diabetes_related** and another is **non-diabetes related**. From two graphs, we can compare both of them and figure out whether they have a relation to the **Diabetes_binary** or not.    "
   ]
  },
  {
   "cell_type": "code",
   "execution_count": 20,
   "id": "a995040f",
   "metadata": {},
   "outputs": [],
   "source": [
    "#listing out the numerical value\n",
    "list = [\"BMI\", \"GenHlth\", \"MentHlth\", \"PhysHlth\", \"Age\", \"Education\", \"Income\"]\n",
    "\n",
    "#only compute to the element in the list which is the numerical value\n",
    "for var in list:\n",
    "    mask1 = diabetes_use[diabetes_use['Diabetes_binary']==1]\n",
    "    mask0 = diabetes_use[diabetes_use['Diabetes_binary']==0]\n",
    "    f, axes = plt.subplots(3, figsize=(24,12))\n",
    "\n",
    "    sb.boxplot(data=diabetes_use[var], orient='h', color = \"purple\", ax = axes[0]).set_title(\"Distribution of \" + var, fontsize = 20)\n",
    "    sb.boxplot(data=mask1[var].values, orient = 'h', color = \"green\", ax=axes[1]).set_title(\"Distribution of \" + var + \" with Diabetes\")\n",
    "    sb.boxplot(data=mask0[var].values, orient = 'h', color = \"red\", ax=axes[2]).set_title(\"Distribution of \" + var + \" without Diabetes\")"
   ]
  },
  {
   "cell_type": "markdown",
   "id": "d2d7acce",
   "metadata": {},
   "source": [
    "After learning all the graphs, these are the variables that are suitable for our model training.<br>\n",
    "\n",
    "### **BMI**(BMI)\n",
    "We choose the variable `BMI`, as from the boxplot, we can observe that the median BMI of diabetes patients is higher than the median BMI of those without diabetes. \n",
    "> Body Mass Index\n",
    "\n",
    "### **General Health Condition**(GenHlth)\n",
    "We chose `Genhlth` as one of the variables used to predict diatribes as the distribution of the data of diabetes and non-diabetes patients varies significantly. Therefore, it is easy to predict whether one has diabetes by looking at his/her general health conditions.\n",
    ">**1** = Excellent\n",
    ">**2** = Very Good\n",
    ">**3** = Good\n",
    ">**4** = Fair\n",
    ">**5** = Poor\n",
    "\n",
    "### **Physical Health Condition**(PhysHlth)\n",
    "By observing the boxplot for `PhysHlth`, we found that diabetes patients suffer from poorer physical health compared to non-diabetes individuals. \n",
    ">Number of days during the past 30 days with poor physical health, including physical illness and injuries(scale 1-30 days)\n",
    "\n",
    "### **Distribution of Age**(Age)\n",
    "By observing the boxplot for `Age`, we found that the distribution of age of diabetes patients is older compared to non-diabetes ones. This indicates that older age leads to a higher risk of diabetes.\n",
    ">13-level age category\n",
    ">**1** = 18-24 \n",
    ">**9** = 60-64 \n",
    ">**13** = 80 or older\n",
    "\n",
    "### **Distribution of Income**(Income)\n",
    "We also decided to choose `income` as one of the variables in diabetes prediction. By studying the box plot of `income`, we found that the income of diabetes patients is generally lower than those without diabetes. This might be due to the quality of living and the accessibility of healthy food and medical care. \n",
    ">Income scale (scale 1-8) \n",
    ">**1** = less than 10,000 \n",
    ">**5** = less than 35,000 \n",
    ">**8** = 75,000 or more"
   ]
  },
  {
   "cell_type": "markdown",
   "id": "be054b18",
   "metadata": {},
   "source": [
    "# Remove outliers\n",
    "After we observed the graph of the correlation between `BMI` and `Diabetes_binary`, we found that the effect of the **outliers** of `BMI` is significant. To increase the accuracy of our model, we decided to clean all the **outliers**."
   ]
  },
  {
   "cell_type": "code",
   "execution_count": 23,
   "id": "d9c47ecf",
   "metadata": {},
   "outputs": [],
   "source": [
    "#calculating the quartal differences\n",
    "Q1 = diabetes_use[\"BMI\"].quantile(0.25)\n",
    "Q3 = diabetes_use[\"BMI\"].quantile(0.75)\n",
    "IQR = Q3 - Q1\n",
    "\n",
    "#remove all the ourliers\n",
    "clean = diabetes_use[(diabetes_use[\"BMI\"] < Q3+1.5*IQR) & (diabetes_use[\"BMI\"] > Q1-1.5*IQR)]"
   ]
  },
  {
   "cell_type": "markdown",
   "id": "2265d15c",
   "metadata": {},
   "source": [
    "## Export the file\n",
    "After cleaning the outliers, then we exported the cleaned file into a new file named, **diabetes_EDA.csv**."
   ]
  },
  {
   "cell_type": "code",
   "execution_count": 24,
   "id": "6b18dcbb",
   "metadata": {},
   "outputs": [],
   "source": [
    "#export the file\n",
    "file_path = \"dataset/diabetes_EDA.csv\"\n",
    "\n",
    "clean.to_csv(path_or_buf = file_path, index=False)"
   ]
  }
 ],
 "metadata": {
  "kernelspec": {
   "display_name": "Python 3 (ipykernel)",
   "language": "python",
   "name": "python3"
  },
  "language_info": {
   "codemirror_mode": {
    "name": "ipython",
    "version": 3
   },
   "file_extension": ".py",
   "mimetype": "text/x-python",
   "name": "python",
   "nbconvert_exporter": "python",
   "pygments_lexer": "ipython3",
   "version": "3.11.5"
  }
 },
 "nbformat": 4,
 "nbformat_minor": 5
}
